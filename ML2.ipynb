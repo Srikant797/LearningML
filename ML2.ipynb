{
 "cells": [
  {
   "cell_type": "code",
   "execution_count": 2,
   "metadata": {},
   "outputs": [],
   "source": [
    "#For Loop"
   ]
  },
  {
   "cell_type": "code",
   "execution_count": 4,
   "metadata": {},
   "outputs": [
    {
     "name": "stdout",
     "output_type": "stream",
     "text": [
      "0\n",
      "1\n",
      "2\n",
      "3\n",
      "4\n",
      "5\n",
      "6\n",
      "7\n",
      "8\n",
      "9\n",
      "10\n",
      "11\n",
      "12\n",
      "13\n",
      "14\n",
      "15\n",
      "16\n",
      "17\n",
      "18\n",
      "19\n"
     ]
    }
   ],
   "source": [
    "for i in range(0,20):\n",
    "    print(i)"
   ]
  },
  {
   "cell_type": "code",
   "execution_count": 5,
   "metadata": {},
   "outputs": [
    {
     "name": "stdout",
     "output_type": "stream",
     "text": [
      "i is now 20\n",
      "i is now 18\n",
      "i is now 16\n",
      "i is now 14\n",
      "i is now 12\n",
      "i is now 10\n",
      "i is now 8\n",
      "i is now 6\n",
      "i is now 4\n",
      "i is now 2\n"
     ]
    }
   ],
   "source": [
    "for i in range(20,1,-2):\n",
    "    print('i is now {}'.format(i))"
   ]
  },
  {
   "cell_type": "code",
   "execution_count": 6,
   "metadata": {},
   "outputs": [],
   "source": [
    "number = '9,223,372,036,854,775,807'"
   ]
  },
  {
   "cell_type": "code",
   "execution_count": 7,
   "metadata": {},
   "outputs": [
    {
     "name": "stdout",
     "output_type": "stream",
     "text": [
      "9\n",
      ",\n",
      "2\n",
      "2\n",
      "3\n",
      ",\n",
      "3\n",
      "7\n",
      "2\n",
      ",\n",
      "0\n",
      "3\n",
      "6\n",
      ",\n",
      "8\n",
      "5\n",
      "4\n",
      ",\n",
      "7\n",
      "7\n",
      "5\n",
      ",\n",
      "8\n",
      "0\n",
      "7\n"
     ]
    }
   ],
   "source": [
    "for i in range(0,len(number)):\n",
    "        print(number[i])"
   ]
  },
  {
   "cell_type": "code",
   "execution_count": 8,
   "metadata": {},
   "outputs": [
    {
     "name": "stdout",
     "output_type": "stream",
     "text": [
      "9223372036854775807"
     ]
    }
   ],
   "source": [
    "for i in range(0,len(number)):\n",
    "        if number[i] in '0123456789':\n",
    "            print(number[i],end='')"
   ]
  },
  {
   "cell_type": "code",
   "execution_count": 14,
   "metadata": {},
   "outputs": [
    {
     "name": "stdout",
     "output_type": "stream",
     "text": [
      "<class 'int'>\n",
      "The number is 9223372036854775807\n"
     ]
    }
   ],
   "source": [
    "newno = ''\n",
    "for i in range(0,len(number)):\n",
    "        if number[i] in '0123456789':\n",
    "           newno = newno + number[i]\n",
    "newNumber = int(newno)\n",
    "print(type(newNumber))\n",
    "print(\"The number is {}\".format(newNumber))"
   ]
  },
  {
   "cell_type": "code",
   "execution_count": null,
   "metadata": {},
   "outputs": [],
   "source": []
  }
 ],
 "metadata": {
  "kernelspec": {
   "display_name": "Python 3",
   "language": "python",
   "name": "python3"
  },
  "language_info": {
   "codemirror_mode": {
    "name": "ipython",
    "version": 3
   },
   "file_extension": ".py",
   "mimetype": "text/x-python",
   "name": "python",
   "nbconvert_exporter": "python",
   "pygments_lexer": "ipython3",
   "version": "3.7.6"
  }
 },
 "nbformat": 4,
 "nbformat_minor": 4
}
